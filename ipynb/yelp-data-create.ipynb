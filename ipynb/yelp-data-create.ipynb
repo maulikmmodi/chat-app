{
 "cells": [
  {
   "cell_type": "code",
   "execution_count": 1,
   "metadata": {},
   "outputs": [],
   "source": [
    "import pandas as pd\n",
    "import json\n",
    "import yaml"
   ]
  },
  {
   "cell_type": "code",
   "execution_count": 2,
   "metadata": {},
   "outputs": [],
   "source": [
    "def clean_data(df):\n",
    "    for i,row in df.iterrows():\n",
    "        df['info'][i]= yaml.load(df['info'][i])\n",
    "    info = pd.DataFrame(list(df['info']))\n",
    "    # Category Column\n",
    "    info['categories'] = info['categories'].apply(lambda x: x[0]['title'])\n",
    "    \n",
    "    # Rating Column\n",
    "    info['rating'] = info['rating'].str.replace('Decimal\\(\\'','').str.replace('\\'\\)','')\n",
    "    info['rating'] = info['rating'].apply(lambda x: int(x))\n",
    "    \n",
    "    # Review Count \n",
    "    info['review_count'] = info['review_count'].str.replace('Decimal\\(\\'','').str.replace('\\'\\)','')\n",
    "    info['review_count'] = info['review_count'].apply(lambda x: int(x))\n",
    "    \n",
    "    # Drop other columns\n",
    "    info= info[['categories','rating','review_count']]\n",
    "    df.drop('info',axis=1,inplace=True)\n",
    "    df.drop('insertedAtTimestamp',axis=1,inplace=True)\n",
    "    frames=[df,info]\n",
    "    final = pd.concat([df,info], axis=1)\n",
    "    return final"
   ]
  },
  {
   "cell_type": "code",
   "execution_count": 3,
   "metadata": {},
   "outputs": [
    {
     "data": {
      "text/html": [
       "<div>\n",
       "<style scoped>\n",
       "    .dataframe tbody tr th:only-of-type {\n",
       "        vertical-align: middle;\n",
       "    }\n",
       "\n",
       "    .dataframe tbody tr th {\n",
       "        vertical-align: top;\n",
       "    }\n",
       "\n",
       "    .dataframe thead th {\n",
       "        text-align: right;\n",
       "    }\n",
       "</style>\n",
       "<table border=\"1\" class=\"dataframe\">\n",
       "  <thead>\n",
       "    <tr style=\"text-align: right;\">\n",
       "      <th></th>\n",
       "      <th>Id</th>\n",
       "      <th>categories</th>\n",
       "      <th>rating</th>\n",
       "      <th>review_count</th>\n",
       "    </tr>\n",
       "  </thead>\n",
       "  <tbody>\n",
       "    <tr>\n",
       "      <th>0</th>\n",
       "      <td>uaFHoq-a5XqxF-bsOK9_Qg</td>\n",
       "      <td>Chinese</td>\n",
       "      <td>3</td>\n",
       "      <td>902</td>\n",
       "    </tr>\n",
       "    <tr>\n",
       "      <th>1</th>\n",
       "      <td>IhSVn0TaX8xXb3wcQ-fgcA</td>\n",
       "      <td>Chinese</td>\n",
       "      <td>4</td>\n",
       "      <td>2444</td>\n",
       "    </tr>\n",
       "    <tr>\n",
       "      <th>2</th>\n",
       "      <td>x9wa2M7gvf32swUSBP3uXA</td>\n",
       "      <td>Mexican</td>\n",
       "      <td>3</td>\n",
       "      <td>746</td>\n",
       "    </tr>\n",
       "    <tr>\n",
       "      <th>3</th>\n",
       "      <td>pmJqb7-EckluXUk6Rtml6A</td>\n",
       "      <td>Chinese</td>\n",
       "      <td>3</td>\n",
       "      <td>83</td>\n",
       "    </tr>\n",
       "    <tr>\n",
       "      <th>4</th>\n",
       "      <td>FZQ-l92qE1NqpI5lbmAM_g</td>\n",
       "      <td>Indian</td>\n",
       "      <td>3</td>\n",
       "      <td>11</td>\n",
       "    </tr>\n",
       "  </tbody>\n",
       "</table>\n",
       "</div>"
      ],
      "text/plain": [
       "                       Id categories  rating  review_count\n",
       "0  uaFHoq-a5XqxF-bsOK9_Qg    Chinese       3           902\n",
       "1  IhSVn0TaX8xXb3wcQ-fgcA    Chinese       4          2444\n",
       "2  x9wa2M7gvf32swUSBP3uXA    Mexican       3           746\n",
       "3  pmJqb7-EckluXUk6Rtml6A    Chinese       3            83\n",
       "4  FZQ-l92qE1NqpI5lbmAM_g     Indian       3            11"
      ]
     },
     "execution_count": 3,
     "metadata": {},
     "output_type": "execute_result"
    }
   ],
   "source": [
    "with open('yelp-restaurants.json', 'r') as f:\n",
    "    data = json.load(f)\n",
    "df = pd.DataFrame(data)\n",
    "final = clean_data(df)\n",
    "final.head()"
   ]
  },
  {
   "cell_type": "code",
   "execution_count": 4,
   "metadata": {},
   "outputs": [],
   "source": [
    "final.to_csv('yelp.csv',index=False)"
   ]
  },
  {
   "cell_type": "code",
   "execution_count": 5,
   "metadata": {},
   "outputs": [],
   "source": [
    "def create_testdata(final):\n",
    "    fav = final.loc[(final['rating'] >= 4) & (final['review_count'] > 500)]\n",
    "#     fav.sort_values('review_count', ascending=False, inplace=True)\n",
    "    fav['recommended'] = 1\n",
    "    \n",
    "    hate = final.loc[(final['rating'] <= 3) & (final['review_count'] > 500)]\n",
    "#     hate.sort_values('review_count', ascending=False, inplace=True)\n",
    "    hate['recommended'] = 0\n",
    "    \n",
    "    frames = [fav[0:100],hate[0:100]]\n",
    "    train = pd.concat(frames)\n",
    "    \n",
    "    return train"
   ]
  },
  {
   "cell_type": "code",
   "execution_count": 6,
   "metadata": {},
   "outputs": [
    {
     "name": "stderr",
     "output_type": "stream",
     "text": [
      "/Users/maulikmodi/.pyenv/versions/3.7.1/lib/python3.7/site-packages/ipykernel_launcher.py:4: SettingWithCopyWarning: \n",
      "A value is trying to be set on a copy of a slice from a DataFrame.\n",
      "Try using .loc[row_indexer,col_indexer] = value instead\n",
      "\n",
      "See the caveats in the documentation: http://pandas.pydata.org/pandas-docs/stable/indexing.html#indexing-view-versus-copy\n",
      "  after removing the cwd from sys.path.\n",
      "/Users/maulikmodi/.pyenv/versions/3.7.1/lib/python3.7/site-packages/ipykernel_launcher.py:8: SettingWithCopyWarning: \n",
      "A value is trying to be set on a copy of a slice from a DataFrame.\n",
      "Try using .loc[row_indexer,col_indexer] = value instead\n",
      "\n",
      "See the caveats in the documentation: http://pandas.pydata.org/pandas-docs/stable/indexing.html#indexing-view-versus-copy\n",
      "  \n"
     ]
    }
   ],
   "source": [
    "train = create_testdata(final)\n",
    "idx1 = train.index\n",
    "idx2 = final.index\n",
    "idx3 = idx2.difference(idx1)\n",
    "test = final.iloc[idx3,:]"
   ]
  },
  {
   "cell_type": "code",
   "execution_count": 7,
   "metadata": {},
   "outputs": [],
   "source": [
    "train.to_csv('FILE_2.csv',index=False)\n",
    "test.to_csv('FILE_1.csv',index=False)"
   ]
  },
  {
   "cell_type": "code",
   "execution_count": 8,
   "metadata": {},
   "outputs": [
    {
     "name": "stderr",
     "output_type": "stream",
     "text": [
      "/Users/maulikmodi/.pyenv/versions/3.7.1/lib/python3.7/site-packages/ipykernel_launcher.py:6: DeprecationWarning: \n",
      ".ix is deprecated. Please use\n",
      ".loc for label based indexing or\n",
      ".iloc for positional indexing\n",
      "\n",
      "See the documentation here:\n",
      "http://pandas.pydata.org/pandas-docs/stable/indexing.html#ix-indexer-is-deprecated\n",
      "  \n",
      "/Users/maulikmodi/.pyenv/versions/3.7.1/lib/python3.7/site-packages/ipykernel_launcher.py:7: DeprecationWarning: \n",
      ".ix is deprecated. Please use\n",
      ".loc for label based indexing or\n",
      ".iloc for positional indexing\n",
      "\n",
      "See the documentation here:\n",
      "http://pandas.pydata.org/pandas-docs/stable/indexing.html#ix-indexer-is-deprecated\n",
      "  import sys\n"
     ]
    }
   ],
   "source": [
    "# a = train.iloc[:,-1]\n",
    "# a.shape\n",
    "# a = train.iloc[:, train.columns != 'recommended']\n",
    "# b = train.iloc[:,-1]\n",
    "# train[train.columns[-1:]]\n",
    "train_y = train.ix[:,-1]\n",
    "train_X = train.ix[:,1:]"
   ]
  },
  {
   "cell_type": "code",
   "execution_count": 9,
   "metadata": {},
   "outputs": [
    {
     "data": {
      "text/plain": [
       "1       1\n",
       "11      1\n",
       "18      1\n",
       "20      1\n",
       "24      1\n",
       "29      1\n",
       "45      1\n",
       "64      1\n",
       "66      1\n",
       "67      1\n",
       "74      1\n",
       "88      1\n",
       "95      1\n",
       "105     1\n",
       "107     1\n",
       "124     1\n",
       "133     1\n",
       "151     1\n",
       "158     1\n",
       "180     1\n",
       "187     1\n",
       "195     1\n",
       "202     1\n",
       "206     1\n",
       "208     1\n",
       "214     1\n",
       "219     1\n",
       "225     1\n",
       "226     1\n",
       "231     1\n",
       "       ..\n",
       "1515    0\n",
       "1533    0\n",
       "1536    0\n",
       "1539    0\n",
       "1541    0\n",
       "1589    0\n",
       "1599    0\n",
       "1600    0\n",
       "1684    0\n",
       "1694    0\n",
       "1703    0\n",
       "1717    0\n",
       "1725    0\n",
       "1752    0\n",
       "1822    0\n",
       "1823    0\n",
       "1862    0\n",
       "1943    0\n",
       "1946    0\n",
       "1958    0\n",
       "1963    0\n",
       "1967    0\n",
       "1989    0\n",
       "2003    0\n",
       "2022    0\n",
       "2039    0\n",
       "2057    0\n",
       "2078    0\n",
       "2080    0\n",
       "2082    0\n",
       "Name: recommended, Length: 200, dtype: int64"
      ]
     },
     "execution_count": 9,
     "metadata": {},
     "output_type": "execute_result"
    }
   ],
   "source": [
    "train_y"
   ]
  },
  {
   "cell_type": "code",
   "execution_count": null,
   "metadata": {},
   "outputs": [],
   "source": []
  }
 ],
 "metadata": {
  "kernelspec": {
   "display_name": "Python 3",
   "language": "python",
   "name": "python3"
  },
  "language_info": {
   "codemirror_mode": {
    "name": "ipython",
    "version": 3
   },
   "file_extension": ".py",
   "mimetype": "text/x-python",
   "name": "python",
   "nbconvert_exporter": "python",
   "pygments_lexer": "ipython3",
   "version": "3.7.1"
  }
 },
 "nbformat": 4,
 "nbformat_minor": 2
}
